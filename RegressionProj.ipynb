{
  "nbformat": 4,
  "nbformat_minor": 0,
  "metadata": {
    "colab": {
      "provenance": []
    },
    "kernelspec": {
      "name": "python3",
      "display_name": "Python 3"
    },
    "language_info": {
      "name": "python"
    }
  },
  "cells": [
    {
      "cell_type": "code",
      "source": [
        "import time"
      ],
      "metadata": {
        "id": "ZNqnekPafZXh"
      },
      "execution_count": null,
      "outputs": []
    },
    {
      "cell_type": "code",
      "execution_count": null,
      "metadata": {
        "id": "HTysib5AG4Eh"
      },
      "outputs": [],
      "source": [
        "X = [1,2,3,4,5]\n",
        "Y = [1,1.5,4,3.5,4.2]"
      ]
    },
    {
      "cell_type": "code",
      "source": [
        "#after plotting seems like we should limit slope to 0.5 to 0.95\n",
        "#limit h value from 0.8 to 1.5"
      ],
      "metadata": {
        "id": "G8fq22LrLzRZ"
      },
      "execution_count": null,
      "outputs": []
    },
    {
      "cell_type": "code",
      "source": [
        "mValues = [0.5, 0.51, 0.52, 0.53, 0.54, 0.55, 0.56, 0.57, 0.58, 0.59, 0.6,0.61, 0.62, 0.63, 0.64, 0.65, 0.66, 0.67, 0.68, 0.69, 0.7, 0.71, 0.72, 0.73, 0.74, 0.75, 0.76, 0.77, 0.78, 0.79, 0.8,0.81, 0.82, 0.83, 0.84, 0.85, 0.86, 0.87, 0.88, 0.89, 0.9, 0.91,0.92, 0.93, 0.94, 0.95]\n",
        "hValues = [0.8, 0.81, 0.82, 0.83, 0.84, 0.85, 0.86, 0.87, 0.88, 0.89,0.9, 0.91, 0.92, 0.93, 0.94, 0.95, 0.96, 0.97, 0.98, 0.99, 1.0, 1.01, 1.02, 1.03, 1.04, 1.05, 1.06, 1.07, 1.08, 1.09, 1.1, 1.11, 1.12, 1.13, 1.14, 1.15, 1.16, 1.17, 1.18, 1.19, 1.2, 1.21, 1.22, 1.23, 1.24, 1.25, 1.26, 1.27, 1.28, 1.29, 1.3, 1.31, 1.32, 1.33, 1.34, 1.35, 1.36, 1.37, 1.38, 1.39, 1.4, 1.41, 1.42, 1.43, 1.44, 1.45, 1.46, 1.47, 1.48, 1.49, 1.5 ]"
      ],
      "metadata": {
        "id": "aXhzVIlqMC7M"
      },
      "execution_count": null,
      "outputs": []
    },
    {
      "cell_type": "code",
      "source": [
        "best_m = mValues[0]\n",
        "best_h = hValues[0]\n",
        "def find_best_m_h(X, Y, mValues, hValues):\n",
        "  for m in range(len(mValues)):\n",
        "    least_error = float('inf');\n",
        "    for h in range(len(hValues)):\n",
        "      temp_error = square_error(X,Y,m,h)\n",
        "      if temp_error < least_error:\n",
        "        least_error = temp_error\n",
        "        best_m = mValues[m]\n",
        "        best_h = hValues[h]\n",
        "    #print(least_error)\n",
        "    print(\"m:\")\n",
        "    print(best_m)\n",
        "    print(\"h:\")\n",
        "    print(best_h)\n",
        "  return least_error"
      ],
      "metadata": {
        "id": "VYeCx0ZRQ5e1"
      },
      "execution_count": null,
      "outputs": []
    },
    {
      "cell_type": "code",
      "source": [
        "def square_error(X,Y,m,h):\n",
        "  error = 0;\n",
        "  for i in range(5):\n",
        "    error += ((m*X[i]+h-Y[i])**2)/(m**2+1)\n",
        "  return error;"
      ],
      "metadata": {
        "id": "jGvN5YwMb3kB"
      },
      "execution_count": null,
      "outputs": []
    },
    {
      "cell_type": "code",
      "source": [],
      "metadata": {
        "id": "TRZf5OnZhuKo"
      },
      "execution_count": null,
      "outputs": []
    },
    {
      "cell_type": "code",
      "source": [
        "# Record the start time\n",
        "start_time = time.time()\n",
        "\n",
        "least_error = find_best_m_h(X,Y,mValues, hValues)\n",
        "print(\"final least error:\")\n",
        "print(least_error)\n",
        "# Record the end time\n",
        "end_time = time.time()\n",
        "\n",
        "# Calculate the elapsed time\n",
        "elapsed_time = end_time - start_time\n",
        "\n",
        "\n",
        "print(f\"Elapsed time: {elapsed_time} seconds\")"
      ],
      "metadata": {
        "colab": {
          "base_uri": "https://localhost:8080/"
        },
        "id": "wEoa38Kbcs31",
        "outputId": "f99b3e3e-c88c-4101-af2b-29c7d6762b04"
      },
      "execution_count": null,
      "outputs": [
        {
          "output_type": "stream",
          "name": "stdout",
          "text": [
            "m:\n",
            "0.5\n",
            "h:\n",
            "0.83\n",
            "m:\n",
            "0.51\n",
            "h:\n",
            "0.8\n",
            "m:\n",
            "0.52\n",
            "h:\n",
            "0.8\n",
            "m:\n",
            "0.53\n",
            "h:\n",
            "0.8\n",
            "m:\n",
            "0.54\n",
            "h:\n",
            "0.8\n",
            "m:\n",
            "0.55\n",
            "h:\n",
            "0.8\n",
            "m:\n",
            "0.56\n",
            "h:\n",
            "0.8\n",
            "m:\n",
            "0.57\n",
            "h:\n",
            "0.8\n",
            "m:\n",
            "0.58\n",
            "h:\n",
            "0.8\n",
            "m:\n",
            "0.59\n",
            "h:\n",
            "0.8\n",
            "m:\n",
            "0.6\n",
            "h:\n",
            "0.8\n",
            "m:\n",
            "0.61\n",
            "h:\n",
            "0.8\n",
            "m:\n",
            "0.62\n",
            "h:\n",
            "0.8\n",
            "m:\n",
            "0.63\n",
            "h:\n",
            "0.8\n",
            "m:\n",
            "0.64\n",
            "h:\n",
            "0.8\n",
            "m:\n",
            "0.65\n",
            "h:\n",
            "0.8\n",
            "m:\n",
            "0.66\n",
            "h:\n",
            "0.8\n",
            "m:\n",
            "0.67\n",
            "h:\n",
            "0.8\n",
            "m:\n",
            "0.68\n",
            "h:\n",
            "0.8\n",
            "m:\n",
            "0.69\n",
            "h:\n",
            "0.8\n",
            "m:\n",
            "0.7\n",
            "h:\n",
            "0.8\n",
            "m:\n",
            "0.71\n",
            "h:\n",
            "0.8\n",
            "m:\n",
            "0.72\n",
            "h:\n",
            "0.8\n",
            "m:\n",
            "0.73\n",
            "h:\n",
            "0.8\n",
            "m:\n",
            "0.74\n",
            "h:\n",
            "0.8\n",
            "m:\n",
            "0.75\n",
            "h:\n",
            "0.8\n",
            "m:\n",
            "0.76\n",
            "h:\n",
            "0.8\n",
            "m:\n",
            "0.77\n",
            "h:\n",
            "0.8\n",
            "m:\n",
            "0.78\n",
            "h:\n",
            "0.8\n",
            "m:\n",
            "0.79\n",
            "h:\n",
            "0.8\n",
            "m:\n",
            "0.8\n",
            "h:\n",
            "0.8\n",
            "m:\n",
            "0.81\n",
            "h:\n",
            "0.8\n",
            "m:\n",
            "0.82\n",
            "h:\n",
            "0.8\n",
            "m:\n",
            "0.83\n",
            "h:\n",
            "0.8\n",
            "m:\n",
            "0.84\n",
            "h:\n",
            "0.8\n",
            "m:\n",
            "0.85\n",
            "h:\n",
            "0.8\n",
            "m:\n",
            "0.86\n",
            "h:\n",
            "0.8\n",
            "m:\n",
            "0.87\n",
            "h:\n",
            "0.8\n",
            "m:\n",
            "0.88\n",
            "h:\n",
            "0.8\n",
            "m:\n",
            "0.89\n",
            "h:\n",
            "0.8\n",
            "m:\n",
            "0.9\n",
            "h:\n",
            "0.8\n",
            "m:\n",
            "0.91\n",
            "h:\n",
            "0.8\n",
            "m:\n",
            "0.92\n",
            "h:\n",
            "0.8\n",
            "m:\n",
            "0.93\n",
            "h:\n",
            "0.8\n",
            "m:\n",
            "0.94\n",
            "h:\n",
            "0.8\n",
            "m:\n",
            "0.95\n",
            "h:\n",
            "0.8\n",
            "final least error:\n",
            "52.73155972359329\n",
            "Elapsed time: 0.06183815002441406 seconds\n"
          ]
        }
      ]
    }
  ]
}