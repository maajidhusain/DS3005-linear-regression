{
  "cells": [
    {
      "cell_type": "code",
      "execution_count": 7,
      "metadata": {
        "id": "ZNqnekPafZXh"
      },
      "outputs": [],
      "source": [
        "import time"
      ]
    },
    {
      "cell_type": "code",
      "execution_count": 9,
      "metadata": {},
      "outputs": [
        {
          "data": {
            "text/plain": [
              "[(1, 1), (2, 1.5), (3, 4), (4, 3.5), (5, 4.2)]"
            ]
          },
          "execution_count": 9,
          "metadata": {},
          "output_type": "execute_result"
        }
      ],
      "source": [
        "points = [(1,1), (2,1.5), (3,4), (4,3.5), (5,4.2)]\n",
        "points"
      ]
    },
    {
      "cell_type": "code",
      "execution_count": null,
      "metadata": {
        "id": "G8fq22LrLzRZ"
      },
      "outputs": [],
      "source": [
        "#after plotting seems like we should limit slope to 0.5 to 0.95\n",
        "#limit h value from 0.8 to 1.5"
      ]
    },
    {
      "cell_type": "code",
      "execution_count": 4,
      "metadata": {
        "id": "aXhzVIlqMC7M"
      },
      "outputs": [],
      "source": [
        "mValues = [i/100 for i in range(50, 95)]\n",
        "hValues = [i/100 for i in range(80, 150)]\n"
      ]
    },
    {
      "cell_type": "code",
      "execution_count": 10,
      "metadata": {
        "id": "jGvN5YwMb3kB"
      },
      "outputs": [],
      "source": [
        "def square_error(points,m,h):\n",
        "  error = 0;\n",
        "  for i in range(5):\n",
        "    error += ((m*points[i][0]+h-points[i][1])**2)/(m**2+1)\n",
        "  return error;"
      ]
    },
    {
      "cell_type": "code",
      "execution_count": 11,
      "metadata": {
        "id": "VYeCx0ZRQ5e1"
      },
      "outputs": [],
      "source": [
        "best_m = mValues[0]\n",
        "best_h = hValues[0]\n",
        "def find_best_m_h(points, mValues, hValues):\n",
        "  for m in range(len(mValues)):\n",
        "    least_error = float('inf');\n",
        "    for h in range(len(hValues)):\n",
        "      temp_error = square_error(points,m,h)\n",
        "      if temp_error < least_error:\n",
        "        least_error = temp_error\n",
        "        best_m = mValues[m]\n",
        "        best_h = hValues[h]\n",
        "    #print(least_error)\n",
        "    print(\"m:\", best_m, \" -- h:\", best_h)\n",
        "  return least_error"
      ]
    },
    {
      "cell_type": "code",
      "execution_count": 12,
      "metadata": {
        "colab": {
          "base_uri": "https://localhost:8080/"
        },
        "id": "wEoa38Kbcs31",
        "outputId": "f99b3e3e-c88c-4101-af2b-29c7d6762b04"
      },
      "outputs": [
        {
          "name": "stdout",
          "output_type": "stream",
          "text": [
            "m:\n",
            "0.5\n",
            "h:\n",
            "0.83\n",
            "m:\n",
            "0.51\n",
            "h:\n",
            "0.8\n",
            "m:\n",
            "0.52\n",
            "h:\n",
            "0.8\n",
            "m:\n",
            "0.53\n",
            "h:\n",
            "0.8\n",
            "m:\n",
            "0.54\n",
            "h:\n",
            "0.8\n",
            "m:\n",
            "0.55\n",
            "h:\n",
            "0.8\n",
            "m:\n",
            "0.56\n",
            "h:\n",
            "0.8\n",
            "m:\n",
            "0.57\n",
            "h:\n",
            "0.8\n",
            "m:\n",
            "0.58\n",
            "h:\n",
            "0.8\n",
            "m:\n",
            "0.59\n",
            "h:\n",
            "0.8\n",
            "m:\n",
            "0.6\n",
            "h:\n",
            "0.8\n",
            "m:\n",
            "0.61\n",
            "h:\n",
            "0.8\n",
            "m:\n",
            "0.62\n",
            "h:\n",
            "0.8\n",
            "m:\n",
            "0.63\n",
            "h:\n",
            "0.8\n",
            "m:\n",
            "0.64\n",
            "h:\n",
            "0.8\n",
            "m:\n",
            "0.65\n",
            "h:\n",
            "0.8\n",
            "m:\n",
            "0.66\n",
            "h:\n",
            "0.8\n",
            "m:\n",
            "0.67\n",
            "h:\n",
            "0.8\n",
            "m:\n",
            "0.68\n",
            "h:\n",
            "0.8\n",
            "m:\n",
            "0.69\n",
            "h:\n",
            "0.8\n",
            "m:\n",
            "0.7\n",
            "h:\n",
            "0.8\n",
            "m:\n",
            "0.71\n",
            "h:\n",
            "0.8\n",
            "m:\n",
            "0.72\n",
            "h:\n",
            "0.8\n",
            "m:\n",
            "0.73\n",
            "h:\n",
            "0.8\n",
            "m:\n",
            "0.74\n",
            "h:\n",
            "0.8\n",
            "m:\n",
            "0.75\n",
            "h:\n",
            "0.8\n",
            "m:\n",
            "0.76\n",
            "h:\n",
            "0.8\n",
            "m:\n",
            "0.77\n",
            "h:\n",
            "0.8\n",
            "m:\n",
            "0.78\n",
            "h:\n",
            "0.8\n",
            "m:\n",
            "0.79\n",
            "h:\n",
            "0.8\n",
            "m:\n",
            "0.8\n",
            "h:\n",
            "0.8\n",
            "m:\n",
            "0.81\n",
            "h:\n",
            "0.8\n",
            "m:\n",
            "0.82\n",
            "h:\n",
            "0.8\n",
            "m:\n",
            "0.83\n",
            "h:\n",
            "0.8\n",
            "m:\n",
            "0.84\n",
            "h:\n",
            "0.8\n",
            "m:\n",
            "0.85\n",
            "h:\n",
            "0.8\n",
            "m:\n",
            "0.86\n",
            "h:\n",
            "0.8\n",
            "m:\n",
            "0.87\n",
            "h:\n",
            "0.8\n",
            "m:\n",
            "0.88\n",
            "h:\n",
            "0.8\n",
            "m:\n",
            "0.89\n",
            "h:\n",
            "0.8\n",
            "m:\n",
            "0.9\n",
            "h:\n",
            "0.8\n",
            "m:\n",
            "0.91\n",
            "h:\n",
            "0.8\n",
            "m:\n",
            "0.92\n",
            "h:\n",
            "0.8\n",
            "m:\n",
            "0.93\n",
            "h:\n",
            "0.8\n",
            "m:\n",
            "0.94\n",
            "h:\n",
            "0.8\n",
            "final least error:\n",
            "52.67998967475478\n",
            "Elapsed time: 0.020111083984375 seconds\n"
          ]
        }
      ],
      "source": [
        "# Record the start time\n",
        "start_time = time.time()\n",
        "for i in range(10):\n",
        "    least_error = find_best_m_h(points,mValues, hValues)\n",
        "    \n",
        "    mValues = [i/10 for i in mValues]\n",
        "    hValues = [i/10 for i in hValues]\n",
        "print(\"final least error:\")\n",
        "print(least_error)\n",
        "# Record the end time\n",
        "end_time = time.time()\n",
        "\n",
        "# Calculate the elapsed time\n",
        "elapsed_time = end_time - start_time\n",
        "\n",
        "\n",
        "print(f\"Elapsed time: {elapsed_time} seconds\")"
      ]
    }
  ],
  "metadata": {
    "colab": {
      "provenance": []
    },
    "kernelspec": {
      "display_name": "Python 3",
      "name": "python3"
    },
    "language_info": {
      "codemirror_mode": {
        "name": "ipython",
        "version": 3
      },
      "file_extension": ".py",
      "mimetype": "text/x-python",
      "name": "python",
      "nbconvert_exporter": "python",
      "pygments_lexer": "ipython3",
      "version": "3.10.8"
    }
  },
  "nbformat": 4,
  "nbformat_minor": 0
}
